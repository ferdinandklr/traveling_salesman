{
 "cells": [
  {
   "cell_type": "markdown",
   "metadata": {},
   "source": [
    "# Optimal solution finder\n",
    "Can find for more than 11 cities"
   ]
  },
  {
   "cell_type": "code",
   "execution_count": 2,
   "metadata": {},
   "outputs": [
    {
     "name": "stdout",
     "output_type": "stream",
     "text": [
      "1193\n"
     ]
    }
   ],
   "source": [
    "cities = [ \"Paris\", \"Marseille\", \"Lyon\", \"Toulouse\", \"Nice\", \"Beziers\", \"Narbone\" ]\n",
    "distances = [\n",
    "  [ 0, 775, 466, 678, 932, 123, 431 ],\n",
    "  [ 775, 0, 314, 404, 199, 4224, 123 ],\n",
    "  [ 466, 314, 0, 538, 471, 334, 134 ],\n",
    "  [ 678, 404, 538, 0, 561, 467, 467 ],\n",
    "  [ 932, 199, 471, 561, 0, 76, 7567 ],\n",
    "  [ 123, 4224, 334, 467, 76, 0, 127 ],\n",
    "  [ 431, 123, 134, 467, 7567, 127, 0 ]\n",
    "]\n",
    "\n",
    "c = 0\n",
    "\n",
    "def config(arr=[], remaining=list(range(len(distances)))):\n",
    "  total = None\n",
    "  if len(arr) == len(distances):\n",
    "    path = 0\n",
    "    for i in range(len(distances) - 1):\n",
    "      path += distances[arr[i]][arr[i + 1]]\n",
    "    return path\n",
    "  for val in remaining:\n",
    "    remaining_copy = remaining.copy()\n",
    "    remaining_copy.remove(val)\n",
    "    path = config(arr+[val], remaining_copy)\n",
    "    if total == None or path < total:\n",
    "      total = path\n",
    "  return total\n",
    "        \n",
    "print(config())"
   ]
  },
  {
   "cell_type": "code",
   "execution_count": 4,
   "metadata": {},
   "outputs": [
    {
     "name": "stdout",
     "output_type": "stream",
     "text": [
      "12413915592536072670862289047373375038521486354677760000000000 62\n"
     ]
    }
   ],
   "source": [
    "def factorial(n):\n",
    "  total = 1\n",
    "  for i in range(1, n + 1):\n",
    "    total *= i\n",
    "  return total\n",
    "\n",
    "f = factorial(48)\n",
    "print(f, len(str(f)))"
   ]
  },
  {
   "cell_type": "code",
   "execution_count": 5,
   "metadata": {},
   "outputs": [],
   "source": [
    "cities = []\n",
    "with open(\"argentina/argentina.csv\", \"r\") as f:\n",
    "  for line in f.read().split(\"\\n\")[1:]:\n",
    "    (x, y) = line.split(\",\")\n",
    "    cities.append((float(x), float(y)))\n",
    "\n",
    "distance_matrix = []\n",
    "for (i, city1) in enumerate(cities):\n",
    "  d = []\n",
    "  for (j, city2) in enumerate(cities):\n",
    "    if i == j:\n",
    "      d.append(0)\n",
    "    else:\n",
    "      d.append(((city2[0] - city1[0])**2 + (city2[1] - city1[1])**2)**0.5)\n",
    "  distance_matrix.append(d)\n",
    "\n",
    "with open(\"argentina/a.json\", \"w\") as f:\n",
    "  f.write('{\"labels\":' + \"[\"+\", \".join(['\"'+str(x)+'\"' for x in range(1, 9153)])+'],\"distance_matrix\":' + \"[\" + \"\\n\".join([\"[\" + \",\".join([str(x) for x in row]) + \"],\" for row in distance_matrix]) + \"]}\")"
   ]
  }
 ],
 "metadata": {
  "interpreter": {
   "hash": "2be5faf79681da6f2a61fdfdd5405d65d042280f7fba6178067603e3a2925119"
  },
  "kernelspec": {
   "display_name": "Python 3.10.0 64-bit",
   "language": "python",
   "name": "python3"
  },
  "language_info": {
   "codemirror_mode": {
    "name": "ipython",
    "version": 3
   },
   "file_extension": ".py",
   "mimetype": "text/x-python",
   "name": "python",
   "nbconvert_exporter": "python",
   "pygments_lexer": "ipython3",
   "version": "3.10.0"
  },
  "orig_nbformat": 4
 },
 "nbformat": 4,
 "nbformat_minor": 2
}
